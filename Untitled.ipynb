{
 "cells": [
  {
   "cell_type": "code",
   "execution_count": 1,
   "id": "7a11b042",
   "metadata": {
    "scrolled": true
   },
   "outputs": [
    {
     "name": "stdout",
     "output_type": "stream",
     "text": [
      "54031,90.05%\n",
      "56628,94.38%\n",
      "57461,95.77%\n",
      "57946,96.58%\n",
      "58296,97.16%\n",
      "58539,97.57%\n",
      "58742,97.9%\n",
      "58882,98.14%\n",
      "59013,98.36%\n",
      "59113,98.52%\n",
      "5\n"
     ]
    },
    {
     "data": {
      "image/png": "[encoded data removed]",
      "text/plain": [
       "<Figure size 432x288 with 1 Axes>"
      ]
     },
     "metadata": {
      "needs_background": "light"
     },
     "output_type": "display_data"
    },
    {
     "name": "stdout",
     "output_type": "stream",
     "text": [
      "6000\n"
     ]
    },
    {
     "data": {
      "image/png": "[encoded data removed]",
      "text/plain": [
       "<Figure size 432x288 with 1 Axes>"
      ]
     },
     "metadata": {
      "needs_background": "light"
     },
     "output_type": "display_data"
    },
    {
     "name": "stdout",
     "output_type": "stream",
     "text": [
      "o\n"
     ]
    },
    {
     "ename": "ValueError",
     "evalue": "invalid literal for int() with base 10: 'o'",
     "output_type": "error",
     "traceback": [
      "\u001b[1;31m---------------------------------------------------------------------------\u001b[0m",
      "\u001b[1;31mValueError\u001b[0m                                Traceback (most recent call last)",
      "Input \u001b[1;32mIn [1]\u001b[0m, in \u001b[0;36m<cell line: 57>\u001b[1;34m()\u001b[0m\n\u001b[0;32m     54\u001b[0m     correct_ \u001b[38;5;241m=\u001b[39m \u001b[38;5;241m0\u001b[39m\n\u001b[0;32m     56\u001b[0m \u001b[38;5;28;01mwhile\u001b[39;00m \u001b[38;5;28;01mTrue\u001b[39;00m:\n\u001b[1;32m---> 57\u001b[0m     index \u001b[38;5;241m=\u001b[39m \u001b[38;5;28;43mint\u001b[39;49m\u001b[43m(\u001b[49m\u001b[38;5;28;43minput\u001b[39;49m\u001b[43m(\u001b[49m\u001b[43m)\u001b[49m\u001b[43m)\u001b[49m\n\u001b[0;32m     58\u001b[0m     img \u001b[38;5;241m=\u001b[39m X_test[index]\n\u001b[0;32m     59\u001b[0m     plt\u001b[38;5;241m.\u001b[39mimshow(img\u001b[38;5;241m.\u001b[39mreshape(\u001b[38;5;241m28\u001b[39m,\u001b[38;5;241m28\u001b[39m),cmap\u001b[38;5;241m=\u001b[39m\u001b[38;5;124m\"\u001b[39m\u001b[38;5;124mGreys\u001b[39m\u001b[38;5;124m\"\u001b[39m)\n",
      "\u001b[1;31mValueError\u001b[0m: invalid literal for int() with base 10: 'o'"
     ]
    }
   ],
   "source": [
    "import numpy as np\n",
    "import pandas as pd\n",
    "from matplotlib import pyplot as plt\n",
    "\n",
    "# Load the MNIST dataset\n",
    "train_df = pd.read_csv(\"mnist_train.csv\")\n",
    "test_df = pd.read_csv(\"mnist_test.csv\")\n",
    "\n",
    "# Preprocess the data\n",
    "X_train = train_df.iloc[:, 1:].values / 255.0\n",
    "y_train = train_df.iloc[:, 0].values\n",
    "X_test = test_df.iloc[:, 1:].values / 255.0\n",
    "y_test = test_df.iloc[:, 0].values\n",
    "a,b = X_train.shape\n",
    "Y_train = np.zeros((a,10))\n",
    "for i in range(a):\n",
    "    Y_train[i][y_train[i]]=1\n",
    "# Define the neural network architecture\n",
    "w_i_h = np.random.uniform(-0.5,0.5,(128,784))\n",
    "w_h_o = np.random.uniform(-0.5,0.5,(10,128))\n",
    "b_i_h = np.zeros((128,1))\n",
    "b_h_o = np.zeros((10,1))\n",
    "input_size = X_train.shape[1]\n",
    "hidden_size = 128\n",
    "output_size = 10\n",
    "learn_rate = 0.01\n",
    "correct_=0\n",
    "epochs= 10\n",
    "for i in range(epochs):\n",
    "    for img,l in zip(X_train,Y_train):\n",
    "        img = img.reshape(-1,1)\n",
    "        l = l.reshape(-1,1)\n",
    "        #Forward input -> hidden\n",
    "        h_1 = w_i_h@img + b_i_h\n",
    "        h = 1 / (1+np.exp(-h_1))\n",
    "        #Forward hidden -> output\n",
    "        o_1 = w_h_o@h + b_h_o\n",
    "        o = 1 / (1+np.exp(-o_1))\n",
    "        #Cost, Correct\n",
    "        c = 1/len(o) * np.sum((o-l)**2,axis=0) #axis=0 Column\n",
    "        correct_+=int(np.argmax(o)==np.argmax(l))\n",
    "        #i->h->o\n",
    "        #Back output -> hidden\n",
    "        delta_o = o-l\n",
    "        w_h_o += -learn_rate * delta_o @ np.transpose(h)\n",
    "        b_h_o += -learn_rate*delta_o\n",
    "        \n",
    "        #Back hidden->input\n",
    "        delta_h = np.transpose(w_h_o) @ delta_o * (h*(1-h))\n",
    "        w_i_h += -learn_rate*delta_h @ np.transpose(img)\n",
    "        b_i_h += -learn_rate*delta_h\n",
    "        \n",
    "    print(f\"{correct_},{round((correct_/X_train.shape[0])*100,2)}%\")\n",
    "    correct_ = 0\n",
    "\n",
    "while True:\n",
    "    index = int(input())\n",
    "    img = X_test[index]\n",
    "    plt.imshow(img.reshape(28,28),cmap=\"Greys\")\n",
    "    \n",
    "    img=img.reshape(-1,1)\n",
    "    h_1 = w_i_h @ img\n",
    "    h = 1 / (1 + np.exp(-h_1))\n",
    "    \n",
    "    o_1 = w_h_o @ h\n",
    "    o = 1/ (1+ np.exp(-o_1))\n",
    "    \n",
    "    plt.title(f\"{o.argmax()}\")\n",
    "    plt.show()"
   ]
  },
  {
   "cell_type": "code",
   "execution_count": null,
   "id": "eca37d25",
   "metadata": {},
   "outputs": [],
   "source": []
  }
 ],
 "metadata": {
  "kernelspec": {
   "display_name": "Python 3 (ipykernel)",
   "language": "python",
   "name": "python3"
  },
  "language_info": {
   "codemirror_mode": {
    "name": "ipython",
    "version": 3
   },
   "file_extension": ".py",
   "mimetype": "text/x-python",
   "name": "python",
   "nbconvert_exporter": "python",
   "pygments_lexer": "ipython3",
   "version": "3.9.12"
  }
 },
 "nbformat": 4,
 "nbformat_minor": 5
}
